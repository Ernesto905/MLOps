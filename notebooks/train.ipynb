{
 "cells": [
  {
   "cell_type": "code",
   "execution_count": null,
   "id": "cb3aaf78-4d2d-4c7f-816f-dad6550233f6",
   "metadata": {},
   "outputs": [],
   "source": [
    "import os\n",
    "import pandas as pd\n",
    "from datasets import load_dataset, Dataset\n",
    "from sklearn.model_selection import train_test_split\n",
    "from transformers import AutoTokenizer, AutoModelForSequenceClassification, Trainer, TrainingArguments"
   ]
  },
  {
   "cell_type": "code",
   "execution_count": null,
   "id": "43322cb4-2cc5-400e-bc47-104d6fad8d6d",
   "metadata": {},
   "outputs": [],
   "source": [
    "# Let's checkout the first few values\n",
    "df = pd.read_csv('data/Train.csv')\n",
    "df.head()"
   ]
  },
  {
   "cell_type": "code",
   "execution_count": null,
   "id": "8934f0dd-be82-4112-8d34-5874304f2dea",
   "metadata": {},
   "outputs": [],
   "source": [
    "# Here we find an unexpected 0.67 label\n",
    "df['label'].value_counts()"
   ]
  },
  {
   "cell_type": "code",
   "execution_count": null,
   "id": "799feacf-a0b5-40bc-8c4e-c2b74aa9702b",
   "metadata": {},
   "outputs": [],
   "source": [
    "# Let's remove that\n",
    "df = df[df['label'].isin([0, 1, -1])]\n",
    "df['label'].value_counts()"
   ]
  },
  {
   "cell_type": "code",
   "execution_count": null,
   "id": "6b4c0199-6216-433e-9629-b36125fc0dbf",
   "metadata": {},
   "outputs": [],
   "source": [
    "# Split the train data \n",
    "train, eval = train_test_split(df, test_size=0.2, random_state=42, stratify=df['label'])\n",
    "print(f\"new dataframe shapes: train is {train.shape}, eval is {eval.shape}\")"
   ]
  },
  {
   "cell_type": "code",
   "execution_count": null,
   "id": "38cc686d-2f18-438b-bc9b-4b3e4a45f324",
   "metadata": {},
   "outputs": [],
   "source": [
    "# Convert DataFrame to Dataset\n",
    "train_dataset = Dataset.from_pandas(train)\n",
    "eval_dataset = Dataset.from_pandas(eval)"
   ]
  },
  {
   "cell_type": "code",
   "execution_count": null,
   "id": "a318b401-793e-4151-be7c-50f76bcf4a98",
   "metadata": {},
   "outputs": [],
   "source": [
    "# Convert labels\n",
    "def transform_labels(example):\n",
    "    label = example['label']\n",
    "    if label == -1:  # 'Negative'\n",
    "        num = 0\n",
    "    elif label == 0:  # 'Neutral'\n",
    "        num = 1\n",
    "    elif label == 1:  # 'Positive'\n",
    "        num = 2\n",
    "    return {'labels': num}\n",
    "\n",
    "# Transform labels\n",
    "train_dataset = train_dataset.map(transform_labels, remove_columns=['tweet_id', 'agreement'])\n",
    "eval_dataset = eval_dataset.map(transform_labels, remove_columns=['tweet_id', 'agreement'])"
   ]
  },
  {
   "cell_type": "code",
   "execution_count": null,
   "id": "5c22ecf4-78d9-4e5d-a440-e8c41812bb19",
   "metadata": {},
   "outputs": [],
   "source": [
    "# Tokenize our data\n",
    "tokenizer = AutoTokenizer.from_pretrained('distilbert-base-uncased')\n",
    "def tokenize_data(example):\n",
    "    return tokenizer(example['safe_text'], padding='max_length', truncation=True)\n",
    "\n",
    "train_dataset = train_dataset.map(tokenize_data, batched=True)\n",
    "eval_dataset = eval_dataset.map(tokenize_data, batched=True)"
   ]
  },
  {
   "cell_type": "code",
   "execution_count": null,
   "id": "7aee653e-bdc0-4f40-aa97-5d07e24fd3f9",
   "metadata": {},
   "outputs": [],
   "source": [
    "# Load the pre-trained model\n",
    "model = AutoModelForSequenceClassification.from_pretrained('distilbert-base-uncased', num_labels=3)\n",
    "\n",
    "# Define training arguments\n",
    "training_args = TrainingArguments(\n",
    "    output_dir='./results',\n",
    "    num_train_epochs=3,\n",
    "    per_device_train_batch_size=16,\n",
    "    per_device_eval_batch_size=64,\n",
    "    warmup_steps=500,\n",
    "    weight_decay=0.01,\n",
    "    logging_dir='./logs',\n",
    "    logging_steps=10,\n",
    "    evaluation_strategy='epoch'\n",
    ")\n",
    "\n",
    "# Create the Trainer\n",
    "trainer = Trainer(\n",
    "    model=model,\n",
    "    args=training_args,\n",
    "    train_dataset=train_dataset,\n",
    "    eval_dataset=eval_dataset\n",
    ")"
   ]
  },
  {
   "cell_type": "code",
   "execution_count": null,
   "id": "8ceca27e-ea87-4f74-8805-35d58593a4d3",
   "metadata": {},
   "outputs": [],
   "source": [
    "# Evaluate the model before training\n",
    "print(\"Accuracy before training:\")\n",
    "trainer.evaluate()"
   ]
  },
  {
   "cell_type": "code",
   "execution_count": null,
   "id": "2fb560a4-2e80-44eb-a3b3-cfcc73eb10f6",
   "metadata": {},
   "outputs": [],
   "source": [
    "# Train the model\n",
    "trainer.train()"
   ]
  },
  {
   "cell_type": "code",
   "execution_count": null,
   "id": "57c05194-b0c3-48db-8803-adedaea5faef",
   "metadata": {},
   "outputs": [],
   "source": [
    "# Evaluate the model after training\n",
    "print(\"Accuracy after training:\")\n",
    "trainer.evaluate()"
   ]
  }
 ],
 "metadata": {
  "kernelspec": {
   "display_name": "Python 3 (ipykernel)",
   "language": "python",
   "name": "python3"
  },
  "language_info": {
   "codemirror_mode": {
    "name": "ipython",
    "version": 3
   },
   "file_extension": ".py",
   "mimetype": "text/x-python",
   "name": "python",
   "nbconvert_exporter": "python",
   "pygments_lexer": "ipython3",
   "version": "3.9.6"
  }
 },
 "nbformat": 4,
 "nbformat_minor": 5
}
