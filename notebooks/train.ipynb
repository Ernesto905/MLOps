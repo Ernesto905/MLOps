{
 "cells": [
  {
   "cell_type": "code",
   "execution_count": 89,
   "id": "cb3aaf78-4d2d-4c7f-816f-dad6550233f6",
   "metadata": {},
   "outputs": [],
   "source": [
    "import os\n",
    "import pandas as pd\n",
    "from datasets import load_dataset, Dataset\n",
    "from sklearn.model_selection import train_test_split\n",
    "from sklearn.metrics import accuracy_score, precision_recall_fscore_support\n",
    "from transformers import AutoTokenizer, AutoModelForSequenceClassification, Trainer, TrainingArguments"
   ]
  },
  {
   "cell_type": "code",
   "execution_count": 83,
   "id": "43322cb4-2cc5-400e-bc47-104d6fad8d6d",
   "metadata": {},
   "outputs": [],
   "source": [
    "# Let's checkout the first few values\n",
    "df = pd.read_csv('../data/twitter_training.csv')\n",
    "df = df.head(500) # Just use subset of our data for now "
   ]
  },
  {
   "cell_type": "code",
   "execution_count": 84,
   "id": "8934f0dd-be82-4112-8d34-5874304f2dea",
   "metadata": {},
   "outputs": [
    {
     "data": {
      "text/html": [
       "<div>\n",
       "<style scoped>\n",
       "    .dataframe tbody tr th:only-of-type {\n",
       "        vertical-align: middle;\n",
       "    }\n",
       "\n",
       "    .dataframe tbody tr th {\n",
       "        vertical-align: top;\n",
       "    }\n",
       "\n",
       "    .dataframe thead th {\n",
       "        text-align: right;\n",
       "    }\n",
       "</style>\n",
       "<table border=\"1\" class=\"dataframe\">\n",
       "  <thead>\n",
       "    <tr style=\"text-align: right;\">\n",
       "      <th></th>\n",
       "      <th>label</th>\n",
       "      <th>Tweet</th>\n",
       "    </tr>\n",
       "  </thead>\n",
       "  <tbody>\n",
       "    <tr>\n",
       "      <th>0</th>\n",
       "      <td>Positive</td>\n",
       "      <td>I am coming to the borders and I will kill you...</td>\n",
       "    </tr>\n",
       "    <tr>\n",
       "      <th>1</th>\n",
       "      <td>Positive</td>\n",
       "      <td>im getting on borderlands and i will kill you ...</td>\n",
       "    </tr>\n",
       "    <tr>\n",
       "      <th>2</th>\n",
       "      <td>Positive</td>\n",
       "      <td>im coming on borderlands and i will murder you...</td>\n",
       "    </tr>\n",
       "    <tr>\n",
       "      <th>3</th>\n",
       "      <td>Positive</td>\n",
       "      <td>im getting on borderlands 2 and i will murder ...</td>\n",
       "    </tr>\n",
       "    <tr>\n",
       "      <th>4</th>\n",
       "      <td>Positive</td>\n",
       "      <td>im getting into borderlands and i can murder y...</td>\n",
       "    </tr>\n",
       "  </tbody>\n",
       "</table>\n",
       "</div>"
      ],
      "text/plain": [
       "      label                                              Tweet\n",
       "0  Positive  I am coming to the borders and I will kill you...\n",
       "1  Positive  im getting on borderlands and i will kill you ...\n",
       "2  Positive  im coming on borderlands and i will murder you...\n",
       "3  Positive  im getting on borderlands 2 and i will murder ...\n",
       "4  Positive  im getting into borderlands and i can murder y..."
      ]
     },
     "execution_count": 84,
     "metadata": {},
     "output_type": "execute_result"
    }
   ],
   "source": [
    "#Rename columns to something more intitive and drop the irrelevant ones \n",
    "df = df.drop(['Borderlands', '2401'], axis=1)\n",
    "df = df.rename(columns={\"Positive\" : \"label\", \"im getting on borderlands and i will murder you all ,\" : \"Tweet\"})\n",
    "\n",
    "# Convert all tweets to strings\n",
    "df['Tweet'] = df['Tweet'].astype(str)\n",
    "\n",
    "df.head()"
   ]
  },
  {
   "cell_type": "code",
   "execution_count": 85,
   "id": "c7482fa2-411f-4640-ab4e-3446bf72f9dd",
   "metadata": {},
   "outputs": [
    {
     "name": "stdout",
     "output_type": "stream",
     "text": [
      "['Positive' 'Neutral' 'Negative' 'Irrelevant']\n"
     ]
    }
   ],
   "source": [
    "# Check the current labels\n",
    "unique_tweets = df['label'].unique()\n",
    "print(unique_tweets)"
   ]
  },
  {
   "cell_type": "code",
   "execution_count": 86,
   "id": "ab3ec58c-cb50-4587-9d16-1c7e0c48af09",
   "metadata": {},
   "outputs": [
    {
     "name": "stdout",
     "output_type": "stream",
     "text": [
      "[2 1 0]\n"
     ]
    }
   ],
   "source": [
    "# Clean up labels and perform one hot encoding\n",
    "df = df[df['label'] != 'Irrelevant']\n",
    "\n",
    "sentiment_mapping = {'Positive': 2, 'Neutral': 1, 'Negative': 0}\n",
    "df['label'] = df['label'].map(sentiment_mapping)\n",
    "\n",
    "unique_tweets = df['label'].unique()\n",
    "print(unique_tweets)"
   ]
  },
  {
   "cell_type": "code",
   "execution_count": 87,
   "id": "5c7eb8b6-41f2-41bf-b0cd-4ec7ccc9c283",
   "metadata": {},
   "outputs": [],
   "source": [
    "train, eval_set = train_test_split(df, test_size=0.75, random_state=8, stratify=df['label'])\n",
    "\n",
    "# Load unto a Dataset\n",
    "train_dataset = Dataset.from_pandas(train)\n",
    "train_dataset = Dataset.from_pandas(eval_set)"
   ]
  },
  {
   "cell_type": "code",
   "execution_count": 88,
   "id": "5c22ecf4-78d9-4e5d-a440-e8c41812bb19",
   "metadata": {},
   "outputs": [
    {
     "data": {
      "application/vnd.jupyter.widget-view+json": {
       "model_id": "c4add8cd0369447b9d62771673b3d252",
       "version_major": 2,
       "version_minor": 0
      },
      "text/plain": [
       "Map:   0%|          | 0/335 [00:00<?, ? examples/s]"
      ]
     },
     "metadata": {},
     "output_type": "display_data"
    },
    {
     "data": {
      "application/vnd.jupyter.widget-view+json": {
       "model_id": "cfc4f9e1be2744ec9acf48690763309e",
       "version_major": 2,
       "version_minor": 0
      },
      "text/plain": [
       "Map:   0%|          | 0/112 [00:00<?, ? examples/s]"
      ]
     },
     "metadata": {},
     "output_type": "display_data"
    }
   ],
   "source": [
    "# Tokenize our tweets\n",
    "tokenizer = AutoTokenizer.from_pretrained('distilbert-base-uncased')\n",
    "def tokenize_data(examples):\n",
    "    return tokenizer(examples[\"Tweet\"], padding=\"max_length\", truncation=True, max_length=128)\n",
    "\n",
    "train_dataset = train_dataset.map(tokenize_data, batched=True)\n",
    "eval_dataset = eval_dataset.map(tokenize_data, batched=True)"
   ]
  },
  {
   "cell_type": "code",
   "execution_count": 90,
   "id": "7aee653e-bdc0-4f40-aa97-5d07e24fd3f9",
   "metadata": {},
   "outputs": [
    {
     "name": "stderr",
     "output_type": "stream",
     "text": [
      "Some weights of DistilBertForSequenceClassification were not initialized from the model checkpoint at distilbert-base-uncased and are newly initialized: ['classifier.bias', 'classifier.weight', 'pre_classifier.bias', 'pre_classifier.weight']\n",
      "You should probably TRAIN this model on a down-stream task to be able to use it for predictions and inference.\n",
      "/Users/ernesto.enriquez/repos/MLOps/venv/lib/python3.9/site-packages/transformers/training_args.py:1474: FutureWarning: `evaluation_strategy` is deprecated and will be removed in version 4.46 of 🤗 Transformers. Use `eval_strategy` instead\n",
      "  warnings.warn(\n"
     ]
    }
   ],
   "source": [
    "# Load the pre-trained model\n",
    "model = AutoModelForSequenceClassification.from_pretrained('distilbert-base-uncased', num_labels=3)\n",
    "\n",
    "# Define training arguments\n",
    "training_args = TrainingArguments(\n",
    "    output_dir='./results',\n",
    "    num_train_epochs=3,\n",
    "    per_device_train_batch_size=16,\n",
    "    per_device_eval_batch_size=64,\n",
    "    warmup_steps=500,\n",
    "    weight_decay=0.01,\n",
    "    logging_dir='./logs',\n",
    "    logging_steps=10,\n",
    "    evaluation_strategy='epoch'\n",
    ")\n",
    "\n",
    "\n",
    "def compute_metrics(pred):\n",
    "    labels = pred.label_ids\n",
    "    preds = pred.predictions.argmax(-1)\n",
    "    acc = accuracy_score(labels, preds)\n",
    "    precision, recall, f1, _ = precision_recall_fscore_support(labels, preds, average='weighted')\n",
    "    return {\n",
    "        'accuracy': acc,\n",
    "        'f1': f1,\n",
    "        'precision': precision,\n",
    "        'recall': recall\n",
    "    }\n",
    "    \n",
    "# Create the Trainer with compute_metrics\n",
    "trainer = Trainer(\n",
    "    model=model,\n",
    "    args=training_args,\n",
    "    train_dataset=train_dataset,\n",
    "    eval_dataset=eval_dataset,\n",
    "    compute_metrics=compute_metrics\n",
    ")"
   ]
  },
  {
   "cell_type": "code",
   "execution_count": 91,
   "id": "8ceca27e-ea87-4f74-8805-35d58593a4d3",
   "metadata": {},
   "outputs": [
    {
     "name": "stdout",
     "output_type": "stream",
     "text": [
      "Accuracy before training:\n"
     ]
    },
    {
     "data": {
      "text/html": [
       "\n",
       "    <div>\n",
       "      \n",
       "      <progress value='4' max='2' style='width:300px; height:20px; vertical-align: middle;'></progress>\n",
       "      [2/2 00:14]\n",
       "    </div>\n",
       "    "
      ],
      "text/plain": [
       "<IPython.core.display.HTML object>"
      ]
     },
     "metadata": {},
     "output_type": "display_data"
    },
    {
     "data": {
      "text/plain": [
       "{'eval_loss': 1.0926108360290527,\n",
       " 'eval_accuracy': 0.375,\n",
       " 'eval_f1': 0.2832560296846011,\n",
       " 'eval_precision': 0.53385955831608,\n",
       " 'eval_recall': 0.375,\n",
       " 'eval_runtime': 1.413,\n",
       " 'eval_samples_per_second': 79.264,\n",
       " 'eval_steps_per_second': 1.415}"
      ]
     },
     "execution_count": 91,
     "metadata": {},
     "output_type": "execute_result"
    }
   ],
   "source": [
    "# Evaluate the model before training\n",
    "print(\"Accuracy before training:\")\n",
    "trainer.evaluate()"
   ]
  },
  {
   "cell_type": "code",
   "execution_count": 92,
   "id": "2fb560a4-2e80-44eb-a3b3-cfcc73eb10f6",
   "metadata": {},
   "outputs": [
    {
     "data": {
      "text/html": [
       "\n",
       "    <div>\n",
       "      \n",
       "      <progress value='63' max='63' style='width:300px; height:20px; vertical-align: middle;'></progress>\n",
       "      [63/63 00:33, Epoch 3/3]\n",
       "    </div>\n",
       "    <table border=\"1\" class=\"dataframe\">\n",
       "  <thead>\n",
       " <tr style=\"text-align: left;\">\n",
       "      <th>Epoch</th>\n",
       "      <th>Training Loss</th>\n",
       "      <th>Validation Loss</th>\n",
       "      <th>Accuracy</th>\n",
       "      <th>F1</th>\n",
       "      <th>Precision</th>\n",
       "      <th>Recall</th>\n",
       "    </tr>\n",
       "  </thead>\n",
       "  <tbody>\n",
       "    <tr>\n",
       "      <td>1</td>\n",
       "      <td>1.091700</td>\n",
       "      <td>1.082129</td>\n",
       "      <td>0.464286</td>\n",
       "      <td>0.330064</td>\n",
       "      <td>0.531542</td>\n",
       "      <td>0.464286</td>\n",
       "    </tr>\n",
       "    <tr>\n",
       "      <td>2</td>\n",
       "      <td>1.059300</td>\n",
       "      <td>1.056853</td>\n",
       "      <td>0.428571</td>\n",
       "      <td>0.257143</td>\n",
       "      <td>0.183673</td>\n",
       "      <td>0.428571</td>\n",
       "    </tr>\n",
       "    <tr>\n",
       "      <td>3</td>\n",
       "      <td>1.032400</td>\n",
       "      <td>1.013924</td>\n",
       "      <td>0.464286</td>\n",
       "      <td>0.328362</td>\n",
       "      <td>0.529762</td>\n",
       "      <td>0.464286</td>\n",
       "    </tr>\n",
       "  </tbody>\n",
       "</table><p>"
      ],
      "text/plain": [
       "<IPython.core.display.HTML object>"
      ]
     },
     "metadata": {},
     "output_type": "display_data"
    },
    {
     "name": "stderr",
     "output_type": "stream",
     "text": [
      "/Users/ernesto.enriquez/repos/MLOps/venv/lib/python3.9/site-packages/sklearn/metrics/_classification.py:1517: UndefinedMetricWarning: Precision is ill-defined and being set to 0.0 in labels with no predicted samples. Use `zero_division` parameter to control this behavior.\n",
      "  _warn_prf(average, modifier, f\"{metric.capitalize()} is\", len(result))\n",
      "/Users/ernesto.enriquez/repos/MLOps/venv/lib/python3.9/site-packages/sklearn/metrics/_classification.py:1517: UndefinedMetricWarning: Precision is ill-defined and being set to 0.0 in labels with no predicted samples. Use `zero_division` parameter to control this behavior.\n",
      "  _warn_prf(average, modifier, f\"{metric.capitalize()} is\", len(result))\n"
     ]
    },
    {
     "data": {
      "text/plain": [
       "TrainOutput(global_step=63, training_loss=1.0640824068160284, metrics={'train_runtime': 33.7471, 'train_samples_per_second': 29.78, 'train_steps_per_second': 1.867, 'total_flos': 33283027457280.0, 'train_loss': 1.0640824068160284, 'epoch': 3.0})"
      ]
     },
     "execution_count": 92,
     "metadata": {},
     "output_type": "execute_result"
    }
   ],
   "source": [
    "# Train the model\n",
    "trainer.train()"
   ]
  },
  {
   "cell_type": "code",
   "execution_count": 93,
   "id": "57c05194-b0c3-48db-8803-adedaea5faef",
   "metadata": {},
   "outputs": [
    {
     "name": "stdout",
     "output_type": "stream",
     "text": [
      "Accuracy after training:\n"
     ]
    },
    {
     "data": {
      "text/html": [
       "\n",
       "    <div>\n",
       "      \n",
       "      <progress value='2' max='2' style='width:300px; height:20px; vertical-align: middle;'></progress>\n",
       "      [2/2 00:00]\n",
       "    </div>\n",
       "    "
      ],
      "text/plain": [
       "<IPython.core.display.HTML object>"
      ]
     },
     "metadata": {},
     "output_type": "display_data"
    },
    {
     "name": "stderr",
     "output_type": "stream",
     "text": [
      "/Users/ernesto.enriquez/repos/MLOps/venv/lib/python3.9/site-packages/sklearn/metrics/_classification.py:1517: UndefinedMetricWarning: Precision is ill-defined and being set to 0.0 in labels with no predicted samples. Use `zero_division` parameter to control this behavior.\n",
      "  _warn_prf(average, modifier, f\"{metric.capitalize()} is\", len(result))\n"
     ]
    },
    {
     "data": {
      "text/plain": [
       "{'eval_loss': 1.013924479484558,\n",
       " 'eval_accuracy': 0.4642857142857143,\n",
       " 'eval_f1': 0.32836211407639976,\n",
       " 'eval_precision': 0.5297619047619048,\n",
       " 'eval_recall': 0.4642857142857143,\n",
       " 'eval_runtime': 0.9789,\n",
       " 'eval_samples_per_second': 114.415,\n",
       " 'eval_steps_per_second': 2.043,\n",
       " 'epoch': 3.0}"
      ]
     },
     "execution_count": 93,
     "metadata": {},
     "output_type": "execute_result"
    }
   ],
   "source": [
    "# Evaluate the model after training\n",
    "print(\"Accuracy after training:\")\n",
    "trainer.evaluate()"
   ]
  }
 ],
 "metadata": {
  "kernelspec": {
   "display_name": "Python 3 (ipykernel)",
   "language": "python",
   "name": "python3"
  },
  "language_info": {
   "codemirror_mode": {
    "name": "ipython",
    "version": 3
   },
   "file_extension": ".py",
   "mimetype": "text/x-python",
   "name": "python",
   "nbconvert_exporter": "python",
   "pygments_lexer": "ipython3",
   "version": "3.9.6"
  }
 },
 "nbformat": 4,
 "nbformat_minor": 5
}
